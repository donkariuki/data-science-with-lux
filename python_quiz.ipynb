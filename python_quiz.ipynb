{
  "nbformat": 4,
  "nbformat_minor": 0,
  "metadata": {
    "colab": {
      "provenance": [],
      "authorship_tag": "ABX9TyOLELfC9QmPi6vveDkwVuFz",
      "include_colab_link": true
    },
    "kernelspec": {
      "name": "python3",
      "display_name": "Python 3"
    },
    "language_info": {
      "name": "python"
    }
  },
  "cells": [
    {
      "cell_type": "markdown",
      "metadata": {
        "id": "view-in-github",
        "colab_type": "text"
      },
      "source": [
        "<a href=\"https://colab.research.google.com/github/donkariuki/data-science-with-lux/blob/main/python_quiz.ipynb\" target=\"_parent\"><img src=\"https://colab.research.google.com/assets/colab-badge.svg\" alt=\"Open In Colab\"/></a>"
      ]
    },
    {
      "cell_type": "code",
      "execution_count": 13,
      "metadata": {
        "id": "3iBmra8cW_Iv"
      },
      "outputs": [],
      "source": [
        "numbers= [1, 2, 3]"
      ]
    },
    {
      "cell_type": "code",
      "source": [
        "def simple_array_sum(n):\n",
        "    num = 0\n",
        "    for i in n:\n",
        "        num+= i\n",
        "    return(num)"
      ],
      "metadata": {
        "id": "jw4gTVPEXeG3"
      },
      "execution_count": 14,
      "outputs": []
    },
    {
      "cell_type": "code",
      "source": [
        " simple_array_sum(numbers)"
      ],
      "metadata": {
        "colab": {
          "base_uri": "https://localhost:8080/"
        },
        "id": "IjbEXGzoXkFM",
        "outputId": "bd81245f-fde0-49c8-a18c-ad9f2509c0da"
      },
      "execution_count": 15,
      "outputs": [
        {
          "output_type": "execute_result",
          "data": {
            "text/plain": [
              "6"
            ]
          },
          "metadata": {},
          "execution_count": 15
        }
      ]
    },
    {
      "cell_type": "code",
      "source": [
        "-"
      ],
      "metadata": {
        "id": "KFTf2-EOXrzm"
      },
      "execution_count": null,
      "outputs": []
    }
  ]
}